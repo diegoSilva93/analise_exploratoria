{
 "cells": [
  {
   "cell_type": "markdown",
   "id": "a1efb83d",
   "metadata": {},
   "source": [
    "# Aplicação Análise exploratória\n",
    "\n",
    "##### Este arquivo tem como objetivo aplicar conhecimentos de análise exploratória, para isso, irei fazer uso do seguinte dataset: https://www.kaggle.com/competitions/titanic/data "
   ]
  },
  {
   "cell_type": "markdown",
   "id": "310b692f",
   "metadata": {},
   "source": [
    "**Irei verificar os seguintes tópicos**\n",
    "\n",
    "* Passenger ID: ID do passageiro (número único para cada um dos passageiros)\n",
    "* Survived: sobrevivente (0 = Não, 1 = Sim)\n",
    "* Pclass: Classe da passagem (1 = primeira classe, 2 = segunda classe, 3 = terceira classe)\n",
    "* Name: nome do passageiro\n",
    "* Sex: Gênero do passageiro\n",
    "* Age: Idade (em anos) do passageiro\n",
    "* SibSp: número de irmãos / cônjuges a bordo do Titanic\n",
    "* Parch: número de pais / filhos a bordo do Titanic\n",
    "* Ticket: número do ticket\n",
    "* Fare: tarifa da passagem\n",
    "* Cabin: número da cabine\n",
    "* Embarked: porto de embarque (C = Cherbourg, Q = Queenstown, S = Southampton)"
   ]
  },
  {
   "cell_type": "markdown",
   "id": "3b7ecb0d",
   "metadata": {},
   "source": [
    "### Importando e visualizando os dados"
   ]
  },
  {
   "cell_type": "code",
   "execution_count": null,
   "id": "f4ebaef0",
   "metadata": {},
   "outputs": [],
   "source": []
  }
 ],
 "metadata": {
  "kernelspec": {
   "display_name": "Python 3 (ipykernel)",
   "language": "python",
   "name": "python3"
  },
  "language_info": {
   "codemirror_mode": {
    "name": "ipython",
    "version": 3
   },
   "file_extension": ".py",
   "mimetype": "text/x-python",
   "name": "python",
   "nbconvert_exporter": "python",
   "pygments_lexer": "ipython3",
   "version": "3.9.2"
  }
 },
 "nbformat": 4,
 "nbformat_minor": 5
}
