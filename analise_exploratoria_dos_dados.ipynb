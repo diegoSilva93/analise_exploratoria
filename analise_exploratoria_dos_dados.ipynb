{
 "cells": [
  {
   "cell_type": "markdown",
   "id": "9f3a2a79",
   "metadata": {},
   "source": [
    "# Análise exploratória dos dados"
   ]
  },
  {
   "cell_type": "markdown",
   "id": "25a3c623",
   "metadata": {},
   "source": [
    "**Elementos e dados estruturados:** Dados estruturados são dados organizados através de uma estrutura e previamente definido, esses dados categorizados como quantitativos. Exemplos de dados estruturados são imagens, textos, clickstreams e entre outros."
   ]
  },
  {
   "cell_type": "markdown",
   "id": "05b1c01d",
   "metadata": {},
   "source": [
    "**Dados Contínuos:** Dados contínuos são dados que podem assumir qualquer valor em um intervalo. "
   ]
  },
  {
   "cell_type": "markdown",
   "id": "4ec858cc",
   "metadata": {},
   "source": [
    "**Dados Discretos:** Dados discretos são dados que podem assumir valores inteiros, como contagem."
   ]
  },
  {
   "cell_type": "markdown",
   "id": "04817eb7",
   "metadata": {},
   "source": [
    "**Dados Categóricos:** Dados categóricos são dados que podem assumir apenas um conjunto específico de valores."
   ]
  },
  {
   "cell_type": "markdown",
   "id": "7d2cd995",
   "metadata": {},
   "source": [
    "Existem dois tipos de dados estruturados, são estes, os dados númericos e categóricos. Os dados numéricos aparecem de duas formas, que são a contínnua e discreta. "
   ]
  },
  {
   "cell_type": "markdown",
   "id": "f990fd7d",
   "metadata": {},
   "source": [
    "**Númerico:** Os dados do tipo númerico são dados que apresentam um valor númerico específico, por exemplo, velocidade do vento, tempo, ou uma duração específica."
   ]
  },
  {
   "cell_type": "markdown",
   "id": "4d44f0d1",
   "metadata": {},
   "source": [
    "**Categórica:** Dados categóricos são dados que assumem uma categoria específica de um conjunto, por exemplo, Tela de tv (plasma, LCD, LED, etc), Estado (São Paulo, Amazona, Paraíba, etc)"
   ]
  },
  {
   "cell_type": "markdown",
   "id": "0a5e0cae",
   "metadata": {},
   "source": [
    "## Estimativas e métricas"
   ]
  },
  {
   "cell_type": "markdown",
   "id": "3fb881cf",
   "metadata": {},
   "source": [
    "**Média:** A média é a soma de todos os valores, dividida pelo número de valores. E é dado pela seguinte equação"
   ]
  },
  {
   "attachments": {
    "media.jpg": {
     "image/jpeg": "[encoded data removed]"
    }
   },
   "cell_type": "markdown",
   "id": "74041cf8",
   "metadata": {},
   "source": [
    "![media.jpg](attachment:media.jpg)"
   ]
  },
  {
   "cell_type": "markdown",
   "id": "0329aa6b",
   "metadata": {},
   "source": [
    "**mediana:** A media é o número central em uma lista de dados. Onde, deve-se colocar o conjunto de dados em ordem crescente e, se o conjunto de dados for um conjunto de dados par, a mediana seria a média dos valores classificados nas metades superior e inferior, se for impar, seria o valor central do conjunto de dados. Segue a equação da mediana\n",
    "\n",
    "OBS: A mediana seria o mesmo valor do segundo quartil\n"
   ]
  },
  {
   "attachments": {
    "mediana.png": {
     "image/png": "[encoded data removed]"
    }
   },
   "cell_type": "markdown",
   "id": "000cd921",
   "metadata": {},
   "source": [
    "![mediana.png](attachment:mediana.png)"
   ]
  },
  {
   "cell_type": "markdown",
   "id": "43e968a2",
   "metadata": {},
   "source": [
    "**Moda:** Moda é o valor que mais se repete no conjunto de dados, para encontrar o valor da moda basta verificar o valor que mais se repete. "
   ]
  },
  {
   "cell_type": "markdown",
   "id": "a6d11bab",
   "metadata": {},
   "source": [
    "**Desvio padrão:** A soma dos quadrados dos desvios da média, divididos por n – 1, em que n é o número de\n",
    "valores de dados. Segue a equação;"
   ]
  },
  {
   "attachments": {
    "Desvio-Padr%C3%A3o.png": {
     "image/png": "[encoded data removed]"
    }
   },
   "cell_type": "markdown",
   "id": "e410c0f2",
   "metadata": {},
   "source": [
    "![Desvio-Padr%C3%A3o.png](attachment:Desvio-Padr%C3%A3o.png)"
   ]
  },
  {
   "cell_type": "markdown",
   "id": "005f64ee",
   "metadata": {},
   "source": [
    "**Variância:** A soma dos quadrados dos desvios da média, divididos por n – 1, em que n é o número de\n",
    "valores de dados. Também conhecido como erro médio, segue a equação:"
   ]
  },
  {
   "attachments": {
    "Vari%C3%A2ncia.png": {
     "image/png": "[encoded data removed]"
    }
   },
   "cell_type": "markdown",
   "id": "672f0e04",
   "metadata": {},
   "source": [
    "![Vari%C3%A2ncia.png](attachment:Vari%C3%A2ncia.png)"
   ]
  },
  {
   "cell_type": "markdown",
   "id": "d6dbf83d",
   "metadata": {},
   "source": [
    "**Amplitude:** A diferença entre o maior e menor valor no conjunto de dados."
   ]
  },
  {
   "cell_type": "markdown",
   "id": "b6eff2ee",
   "metadata": {},
   "source": [
    "### **Tipos de Gráficos**"
   ]
  },
  {
   "cell_type": "markdown",
   "id": "cf6ec007",
   "metadata": {},
   "source": [
    "**Box Plot:** Um gráfico apresentado por Tukey como um modo rápido de visualizar a distribuição de dados, também é chamado de gráfico de caixa. Segue um exemplo de um gráfico de caixa"
   ]
  },
  {
   "cell_type": "code",
   "execution_count": null,
   "id": "0ff8072d",
   "metadata": {},
   "outputs": [],
   "source": []
  },
  {
   "cell_type": "markdown",
   "id": "ca9b5607",
   "metadata": {},
   "source": [
    "**Tabela de frequência:** Um registro de contagem de valores numéricos de dados que caem em um conjunto de intervalos (Coluna)"
   ]
  },
  {
   "cell_type": "code",
   "execution_count": null,
   "id": "b95c96a2",
   "metadata": {},
   "outputs": [],
   "source": []
  },
  {
   "cell_type": "markdown",
   "id": "cdd0e218",
   "metadata": {},
   "source": [
    "**Histograma:** Histograma é um gráfico de tabela de frequências com as colunas no eixo x e a contagem (ou proporção) no eixo y"
   ]
  },
  {
   "cell_type": "code",
   "execution_count": null,
   "id": "994df99d",
   "metadata": {},
   "outputs": [],
   "source": []
  },
  {
   "cell_type": "markdown",
   "id": "183083f5",
   "metadata": {},
   "source": [
    "**Gráfico de densidade:** É uma versão simplificada do histograma, frequentemente usado em estimativas de densidade\n",
    "Kernel."
   ]
  },
  {
   "cell_type": "code",
   "execution_count": null,
   "id": "25e86f96",
   "metadata": {},
   "outputs": [],
   "source": []
  },
  {
   "cell_type": "markdown",
   "id": "736d4af5",
   "metadata": {},
   "source": [
    "**Gráficos de barras:** É um gráfico onde a frequência ou proporção de cada categoria são representadas por barras."
   ]
  },
  {
   "cell_type": "code",
   "execution_count": null,
   "id": "be5b4e82",
   "metadata": {},
   "outputs": [],
   "source": []
  },
  {
   "cell_type": "markdown",
   "id": "3a9db285",
   "metadata": {},
   "source": [
    "**Valor esperado:** É quando as categorias podem ser associadas a um valor numérico, isso nos dá um valor médio\n",
    "com base na probabilidade de ocorrência de uma categoria."
   ]
  },
  {
   "cell_type": "code",
   "execution_count": null,
   "id": "f9651844",
   "metadata": {},
   "outputs": [],
   "source": []
  },
  {
   "cell_type": "markdown",
   "id": "47ac162c",
   "metadata": {},
   "source": [
    "### Correlação"
   ]
  },
  {
   "cell_type": "markdown",
   "id": "62d329bb",
   "metadata": {},
   "source": [
    "**Coeficiente de correlação::** É uma métrica que mede o nível em que as variáveis númericas possuem uma associação uma com a outra, variando de -1 a +1. O coeficiente de correlação de Pearson pode ser calculada através da multiplicação dos desvios da média da variável um pela variável dois e dividindo pelo o produto do desvio padrão. Pode ser visualizada através da seguinte equação"
   ]
  },
  {
   "attachments": {
    "download.png": {
     "image/png": "[encoded data removed]"
    }
   },
   "cell_type": "markdown",
   "id": "d749812f",
   "metadata": {},
   "source": [
    "![download.png](attachment:download.png)"
   ]
  },
  {
   "cell_type": "markdown",
   "id": "cf118f4b",
   "metadata": {},
   "source": [
    "## Distribuição de dados e amostras"
   ]
  },
  {
   "cell_type": "markdown",
   "id": "2e3a4410",
   "metadata": {},
   "source": [
    "### Amostragem aleatória e viés de amostra"
   ]
  },
  {
   "cell_type": "markdown",
   "id": "73a48a50",
   "metadata": {},
   "source": [
    "**Amostra:** Uma amostra é um subconjunto de um conjunto maior de dados. <br>\n",
    "**População:** É o conjunto maior de dados. <br>\n",
    "**Viés de amostragem:** Uma amostra que não representa a população"
   ]
  },
  {
   "cell_type": "markdown",
   "id": "2a74e82b",
   "metadata": {},
   "source": [
    "### Viés"
   ]
  },
  {
   "attachments": {
    "erro-padrao.jpg": {
     "image/jpeg": "[encoded data removed]"
    }
   },
   "cell_type": "markdown",
   "id": "56b8e653",
   "metadata": {},
   "source": [
    "O viés estatístido se refere a erros de medição ou amostragem que são sistemáticos e produzidos pelo processo de medição. O viés aparece de distintas formas. \n",
    "\n",
    "### Regressão a média\n",
    "\n",
    "* Regressão a média se refere a um fenômeno envolvendo sucessivas medições em dada variável. A regressão a média é uma consequencia de uma forma específica de viés de seleção\n",
    "\n",
    "**Teorema do limite central:** É a tendência da distribuição amostral de assumir uma forma normal conforme o tamanho da amostra cresce. Ele informa que as médias extraídas de múltiplas amostras serão semelhantes à conhecida curva normal campanular. O teorema do limite central permite fórmulas de aproximação normal como a distribuição t.\n",
    "\n",
    "**Erro padrão:** O erro padrão é uma métrica única que resume a variabilidade na distribuição de amostragem de uma estatística.\n",
    "\n",
    "![erro-padrao.jpg](attachment:erro-padrao.jpg)"
   ]
  },
  {
   "cell_type": "markdown",
   "id": "38b470e4",
   "metadata": {},
   "source": [
    "### Por que ter um grupo de controle"
   ]
  },
  {
   "cell_type": "markdown",
   "id": "d0ff6047",
   "metadata": {},
   "source": [
    "sem um grupo de controle não existe garantia de que \"outras coisas são iguais\" e que quaisquer diferenças são realmente devidas ao \"acaso\". Quando se tem um grupo de tratamento de controle ele está sujeito às mesmas condições, exceto o tratamento de interesse."
   ]
  },
  {
   "cell_type": "markdown",
   "id": "77f818c7",
   "metadata": {},
   "source": [
    "### Teste de Hipótese"
   ]
  },
  {
   "cell_type": "markdown",
   "id": "7df1e169",
   "metadata": {},
   "source": [
    "Os testes de hipóteses também são chamados de teste de significância, tem como objetivo ajudar a descobrir se uma chance aleatória poderia ser responsável por um efeito observado."
   ]
  },
  {
   "cell_type": "markdown",
   "id": "c34b9aca",
   "metadata": {},
   "source": [
    "* Hipótese nula: A hipótese cuja possibilidade é provada\n",
    "* Hipótse alternativa: Contraponto da nula, ou seja o que se espera provar\n",
    "* Teste unilateral: Conta as possibilidades em apenas uma direção\n",
    "* Teste bilateral: Conta as possibilidades em duas direções"
   ]
  },
  {
   "cell_type": "markdown",
   "id": "7f0c3301",
   "metadata": {},
   "source": [
    "### Hipótese nula"
   ]
  },
  {
   "cell_type": "code",
   "execution_count": null,
   "id": "04076215",
   "metadata": {},
   "outputs": [],
   "source": []
  }
 ],
 "metadata": {
  "kernelspec": {
   "display_name": "Python 3 (ipykernel)",
   "language": "python",
   "name": "python3"
  },
  "language_info": {
   "codemirror_mode": {
    "name": "ipython",
    "version": 3
   },
   "file_extension": ".py",
   "mimetype": "text/x-python",
   "name": "python",
   "nbconvert_exporter": "python",
   "pygments_lexer": "ipython3",
   "version": "3.9.2"
  }
 },
 "nbformat": 4,
 "nbformat_minor": 5
}
