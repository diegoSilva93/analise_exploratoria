{
 "cells": [
  {
   "cell_type": "markdown",
   "id": "9f3a2a79",
   "metadata": {},
   "source": [
    "# Análise exploratória dos dados"
   ]
  },
  {
   "cell_type": "markdown",
   "id": "25a3c623",
   "metadata": {},
   "source": [
    "**Elementos e dados estruturados:** Dados estruturados são dados organizados através de uma estrutura e previamente definido, esses dados categorizados como quantitativos. Exemplos de dados estruturados são imagens, textos, clickstreams e entre outros."
   ]
  },
  {
   "cell_type": "markdown",
   "id": "05b1c01d",
   "metadata": {},
   "source": [
    "**Dados Contínuos:** Dados contínuos são dados que podem assumir qualquer valor em um intervalo. "
   ]
  },
  {
   "cell_type": "markdown",
   "id": "4ec858cc",
   "metadata": {},
   "source": [
    "**Dados Discretos:** Dados discretos são dados que podem assumir valores inteiros, como contagem."
   ]
  },
  {
   "cell_type": "markdown",
   "id": "04817eb7",
   "metadata": {},
   "source": [
    "**Dados Categóricos:** Dados categóricos são dados que podem assumir apenas um conjunto específico de valores."
   ]
  },
  {
   "cell_type": "markdown",
   "id": "7d2cd995",
   "metadata": {},
   "source": [
    "Existem dois tipos de dados estruturados, são estes, os dados númericos e categóricos. Os dados numéricos aparecem de duas formas, que são a contínnua e discreta. "
   ]
  },
  {
   "cell_type": "markdown",
   "id": "f990fd7d",
   "metadata": {},
   "source": [
    "**Númerico:** Os dados do tipo númerico são dados que apresentam um valor númerico específico, por exemplo, velocidade do vento, tempo, ou uma duração específica."
   ]
  },
  {
   "cell_type": "markdown",
   "id": "4d44f0d1",
   "metadata": {},
   "source": [
    "**Categórica:** Dados categóricos são dados que assumem uma categoria específica de um conjunto, por exemplo, Tela de tv (plasma, LCD, LED, etc), Estado (São Paulo, Amazona, Paraíba, etc)"
   ]
  },
  {
   "cell_type": "markdown",
   "id": "0a5e0cae",
   "metadata": {},
   "source": [
    "## Estimativas e métricas"
   ]
  },
  {
   "cell_type": "markdown",
   "id": "3fb881cf",
   "metadata": {},
   "source": [
    "**Média:** A média é a soma de todos os valores, dividida pelo número de valores. E é dado pela seguinte equação"
   ]
  },
  {
   "attachments": {
    "media-aritmetica-formula.png": {
     "image/png": "[encoded data removed]"
    }
   },
   "cell_type": "markdown",
   "id": "4a556afd",
   "metadata": {},
   "source": [
    "![media-aritmetica-formula.png](attachment:media-aritmetica-formula.png)"
   ]
  },
  {
   "cell_type": "markdown",
   "id": "0329aa6b",
   "metadata": {},
   "source": [
    "**mediana:** A media é o número central em uma lista de dados. Onde, deve-se colocar o conjunto de dados em ordem crescente e, se o conjunto de dados for um conjunto de dados par, a mediana seria a média dos valores classificados nas metades superior e inferior, se for impar, seria o valor central do conjunto de dados. Segue a equação da mediana\n",
    "\n",
    "OBS: A mediana seria o mesmo valor do segundo quartil\n"
   ]
  },
  {
   "attachments": {
    "mediana.png": {
     "image/png": "[encoded data removed]"
    }
   },
   "cell_type": "markdown",
   "id": "000cd921",
   "metadata": {},
   "source": [
    "![mediana.png](attachment:mediana.png)"
   ]
  },
  {
   "cell_type": "code",
   "execution_count": null,
   "id": "5cf4f7ca",
   "metadata": {},
   "outputs": [],
   "source": []
  }
 ],
 "metadata": {
  "kernelspec": {
   "display_name": "Python 3 (ipykernel)",
   "language": "python",
   "name": "python3"
  },
  "language_info": {
   "codemirror_mode": {
    "name": "ipython",
    "version": 3
   },
   "file_extension": ".py",
   "mimetype": "text/x-python",
   "name": "python",
   "nbconvert_exporter": "python",
   "pygments_lexer": "ipython3",
   "version": "3.9.2"
  }
 },
 "nbformat": 4,
 "nbformat_minor": 5
}
